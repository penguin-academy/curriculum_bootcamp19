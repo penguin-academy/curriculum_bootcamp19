{
 "cells": [
  {
   "cell_type": "code",
   "execution_count": 1,
   "metadata": {},
   "outputs": [
    {
     "name": "stdout",
     "output_type": "stream",
     "text": [
      "hola mundo\n"
     ]
    }
   ],
   "source": [
    "print(\"hola mundo\")"
   ]
  },
  {
   "cell_type": "markdown",
   "metadata": {},
   "source": [
    "## Variables"
   ]
  },
  {
   "cell_type": "code",
   "execution_count": 4,
   "metadata": {},
   "outputs": [
    {
     "name": "stdout",
     "output_type": "stream",
     "text": [
      "Hola pinguinas!\n",
      "Chiara\n"
     ]
    }
   ],
   "source": [
    "nombre = \"Anahi\"\n",
    "saludo = \"Hola pinguinas!\"\n",
    "\n",
    "print(saludo)\n",
    "nombre = \"Chiara\"\n",
    "print(nombre)"
   ]
  },
  {
   "cell_type": "markdown",
   "metadata": {},
   "source": [
    "## Tipos de datos"
   ]
  },
  {
   "cell_type": "code",
   "execution_count": 6,
   "metadata": {},
   "outputs": [
    {
     "name": "stdout",
     "output_type": "stream",
     "text": [
      "30\n",
      "False\n"
     ]
    }
   ],
   "source": [
    "cantidad_de_productos = 30 # Numero Entero -> Integer -> int\n",
    "producto = \"gaseosas\" # Texto -> strings -> str\n",
    "precio_USD = 3.99 # Numero decimal -> floating number -> float \n",
    "esta_abierta = False # Boolean -> bool \n",
    "\n",
    "print(cantidad_de_productos)\n",
    "print(esta_abierta)\n",
    "\n"
   ]
  },
  {
   "cell_type": "markdown",
   "metadata": {},
   "source": [
    "## Operaciones aritmeticas "
   ]
  },
  {
   "cell_type": "code",
   "execution_count": 10,
   "metadata": {},
   "outputs": [
    {
     "name": "stdout",
     "output_type": "stream",
     "text": [
      "22000\n",
      "17000\n",
      "30000\n",
      "10000.0\n"
     ]
    }
   ],
   "source": [
    "# Suma\n",
    "precio_total = 7000 + 10000 + 5000 # suma de precios\n",
    "print(precio_total)\n",
    "# Resta\n",
    "total_con_descuento = precio_total - 5000 # descuento\n",
    "print(total_con_descuento)\n",
    "# Multiplicacion\n",
    "precio_gaseosa = 10000\n",
    "cantidad = 3\n",
    "total_de_compra = precio_gaseosa * cantidad\n",
    "print(total_de_compra)\n",
    "# division \n",
    "cantidad_de_personas = 3\n",
    "vaquita = total_de_compra / cantidad_de_personas\n",
    "print(vaquita)"
   ]
  },
  {
   "cell_type": "markdown",
   "metadata": {},
   "source": [
    "## Challenge 🤺 - 15m\n",
    "\n",
    "Suma: asignar dos números en dos variables diferentes `cantidad_de_manzanas` y `cantidad_de_naranjas`. Luego sumar ambas variables en `cantidad_de_frutas`. Imprimir la última variable.\n",
    "\n",
    "Resta: asignar un valor numérico a la variable `frutas_vendidas`. Luego, asignar la resta entre `cantidad_de_frutas` y `frutas_vendidas` a la variable `frutas_restantes`. Imprimir la última variable."
   ]
  },
  {
   "cell_type": "markdown",
   "metadata": {},
   "source": [
    "## Solucion de Adri"
   ]
  },
  {
   "cell_type": "code",
   "execution_count": 11,
   "metadata": {},
   "outputs": [
    {
     "name": "stdout",
     "output_type": "stream",
     "text": [
      "13\n",
      "3\n"
     ]
    }
   ],
   "source": [
    "cantidad_de_manzanas = 5\n",
    "cantidad_de_naranjas = 8\n",
    "cantidad_de_frutas = cantidad_de_manzanas + cantidad_de_naranjas\n",
    "print(cantidad_de_frutas)\n",
    "\n",
    "## Resta\n",
    "frutas_vendidas = 10\n",
    "frutas_restantes = cantidad_de_frutas - frutas_vendidas\n",
    "print(frutas_restantes)"
   ]
  },
  {
   "cell_type": "markdown",
   "metadata": {},
   "source": [
    "## Solucion de Naye :)"
   ]
  },
  {
   "cell_type": "code",
   "execution_count": 13,
   "metadata": {},
   "outputs": [
    {
     "name": "stdout",
     "output_type": "stream",
     "text": [
      "18\n",
      "-12\n"
     ]
    }
   ],
   "source": [
    "cantidad_de_manzanas = 10 \n",
    "cantidad_de_naranjas = 8\n",
    "cantidad_de_frutas = cantidad_de_manzanas + cantidad_de_naranjas\n",
    "print (cantidad_de_frutas)\n",
    "frutas_vendidas = 30\n",
    "cantidad_de_frutas = 50\n",
    "frutas_restantes = cantidad_de_frutas - frutas_vendidas\n",
    "print (frutas_restantes)"
   ]
  },
  {
   "cell_type": "markdown",
   "metadata": {},
   "source": [
    "## Concatenacion\n",
    " "
   ]
  },
  {
   "cell_type": "code",
   "execution_count": 17,
   "metadata": {},
   "outputs": [
    {
     "name": "stdout",
     "output_type": "stream",
     "text": [
      "Analia\n",
      "Aguilera\n",
      "AnaliaAguilera\n",
      "Analia Aguilera\n",
      "hola, mi nombre es Analia Aguilera\n"
     ]
    }
   ],
   "source": [
    "nombre = \"Analia\" # creo la variable nombre\n",
    "apellido = \"Aguilera\" # creo la variable\n",
    "\n",
    "print(nombre)\n",
    "print(apellido)\n",
    "\n",
    "print(nombre + apellido)\n",
    "print(nombre + ' ' + apellido)\n",
    "\n",
    "print(f\"hola, mi nombre es {nombre} {apellido}\") # imprimir con format"
   ]
  },
  {
   "cell_type": "markdown",
   "metadata": {},
   "source": [
    "## Challenge 🤺 - 15m\n",
    "\n",
    "Asignar el nombre y el apellido de tu compañera/o a las variables nombre y apellido. Luego, imprimir una frase, utilizando las variables.\n",
    "EJEMPLO: \"Hola. Me llamo Claudia Melgarejo. Mucho gusto.\""
   ]
  },
  {
   "cell_type": "markdown",
   "metadata": {},
   "source": [
    "## Solucion de Bianca :)"
   ]
  },
  {
   "cell_type": "code",
   "execution_count": 18,
   "metadata": {},
   "outputs": [
    {
     "name": "stdout",
     "output_type": "stream",
     "text": [
      "Hola Carolina Sanabria, soy Bianca Rojas, mucho gusto \n"
     ]
    }
   ],
   "source": [
    "\"\"\"Asignar el nombre y el apellido de tu companero a las variables nombre y apellido\n",
    "Imprimir un FRASE, IMPRIMIENDO LAS VARIABLES, ej: Hola XXX me llamo XXX, mucho gusto\"\"\"\n",
    "nombre= \"Carolina\"\n",
    "apellido= \"Sanabria\"\n",
    "nombre2= \"Bianca\"\n",
    "apellido2= \"Rojas\"\n",
    "print(f\"Hola {nombre} {apellido}, soy {nombre2} {apellido2}, mucho gusto \")"
   ]
  },
  {
   "cell_type": "markdown",
   "metadata": {},
   "source": [
    "## Solucion de Arami :)"
   ]
  },
  {
   "cell_type": "code",
   "execution_count": 19,
   "metadata": {},
   "outputs": [
    {
     "name": "stdout",
     "output_type": "stream",
     "text": [
      "Hola, me llamo Tania Gonzalez. Mucho gusto :)\n"
     ]
    }
   ],
   "source": [
    "nombre = \"Tania\"\n",
    "apellido = \"Gonzalez\"\n",
    "print(f\"Hola, me llamo {nombre} {apellido}. Mucho gusto :)\")"
   ]
  },
  {
   "cell_type": "markdown",
   "metadata": {},
   "source": [
    "## Input\n"
   ]
  },
  {
   "cell_type": "code",
   "execution_count": 25,
   "metadata": {},
   "outputs": [
    {
     "name": "stdout",
     "output_type": "stream",
     "text": [
      "32\n",
      "<class 'str'>\n"
     ]
    }
   ],
   "source": [
    "edad_del_usuario = input(\"ingrese su edad\") # solicito al usuario su edad\n",
    "print(edad_del_usuario) # imprimo la edad del usuario \n",
    "print(type(edad_del_usuario)) # Verifico el tipo de dato"
   ]
  },
  {
   "cell_type": "markdown",
   "metadata": {},
   "source": [
    "## Modificar el tipo de dato de las variables (type)"
   ]
  },
  {
   "cell_type": "code",
   "execution_count": 27,
   "metadata": {},
   "outputs": [
    {
     "name": "stdout",
     "output_type": "stream",
     "text": [
      "<class 'int'>\n",
      "<class 'str'>\n",
      "200000\n"
     ]
    }
   ],
   "source": [
    "print(type(cantidad_de_manzanas))\n",
    "print(type(nombre))\n",
    "\n",
    "precio_del_producto = 50000\n",
    "cantidad_de_unidades = int(input(\"ingrese la cantidad\")) # modifico el tipo de dato a numero entero\n",
    "total = cantidad_de_unidades * precio_del_producto \n",
    "print(total)"
   ]
  },
  {
   "cell_type": "code",
   "execution_count": 30,
   "metadata": {},
   "outputs": [
    {
     "name": "stdout",
     "output_type": "stream",
     "text": [
      "25\n"
     ]
    }
   ],
   "source": [
    "anho_actual = 2023\n",
    "anho_de_nacimiento = int(input(\"ingrese su anho de nacimiento\"))\n",
    "\n",
    "edad = anho_actual - anho_de_nacimiento\n",
    "print(edad)"
   ]
  },
  {
   "cell_type": "markdown",
   "metadata": {},
   "source": [
    "### Challenge 🤺 - 15m\n",
    "\n",
    "Solicitar al usuario ingresar dos números y almacenarlos en dos variables. Luego, imprimir la suma de los dos números."
   ]
  },
  {
   "cell_type": "markdown",
   "metadata": {},
   "source": [
    "## Solucion de Marianita :)"
   ]
  },
  {
   "cell_type": "code",
   "execution_count": 31,
   "metadata": {},
   "outputs": [
    {
     "name": "stdout",
     "output_type": "stream",
     "text": [
      "6\n"
     ]
    }
   ],
   "source": [
    "cantidad_de_peces = int(input(\"cantidad de peces\"))\n",
    "cantidad_de_gatos = int(input(\"cantidad de gatos\"))\n",
    "total_de_animales = cantidad_de_peces + cantidad_de_gatos\n",
    "print (total_de_animales)"
   ]
  },
  {
   "cell_type": "markdown",
   "metadata": {},
   "source": [
    "## Solucion de Aru :)"
   ]
  },
  {
   "cell_type": "code",
   "execution_count": 34,
   "metadata": {},
   "outputs": [
    {
     "name": "stdout",
     "output_type": "stream",
     "text": [
      "11\n"
     ]
    }
   ],
   "source": [
    "cantidad_de_manzanas = int(input(\"ingrese cantidad de manzanas\")) #asigne la cantidad de manzanas a insertar por usuario y converti el texto a entero con int\n",
    "cantidad_de_naranjas = int(input(\"ingrese cantidad de naranjas\")) #asigne la cantidad de naranjas a insertar por usuario y converti el texto a entero con int\n",
    "total_de_frutas = cantidad_de_manzanas + cantidad_de_naranjas # suma de la cantidad de manzanas ingresada por el usuario con la cantidad de naranjas ingresada por usuario\n",
    "\n",
    "\n",
    "print (total_de_frutas)"
   ]
  },
  {
   "cell_type": "markdown",
   "metadata": {},
   "source": [
    "## Funciones"
   ]
  },
  {
   "cell_type": "code",
   "execution_count": 37,
   "metadata": {},
   "outputs": [
    {
     "name": "stdout",
     "output_type": "stream",
     "text": [
      "remojar la ropa\n",
      "girar y lavar\n",
      "enjuagar\n",
      "centrifugar\n",
      "ropa lista!\n",
      "remojar la ropa\n",
      "girar y lavar\n",
      "enjuagar\n",
      "centrifugar\n",
      "ropa lista!\n",
      "remojar la ropa\n",
      "girar y lavar\n",
      "enjuagar\n",
      "centrifugar\n",
      "ropa lista!\n"
     ]
    }
   ],
   "source": [
    "def lavar_ropa(): # Nombramos a nuestra funcion\n",
    "    # Aqui van los pasos a seguir \n",
    "    print(\"remojar la ropa\")\n",
    "    print(\"girar y lavar\")\n",
    "    print(\"enjuagar\")\n",
    "    print(\"centrifugar\")\n",
    "    print(\"ropa lista!\")\n",
    "\n",
    "# Encendemos el lavarropas\n",
    "lavar_ropa()\n",
    "lavar_ropa()\n",
    "lavar_ropa()\n",
    "\n"
   ]
  },
  {
   "cell_type": "code",
   "execution_count": 38,
   "metadata": {},
   "outputs": [
    {
     "name": "stdout",
     "output_type": "stream",
     "text": [
      "remojar la ropa\n",
      "girar y lavar\n",
      "enjuagar\n",
      "centrifugar\n",
      "ropa lista!\n"
     ]
    }
   ],
   "source": [
    "lavar_ropa()"
   ]
  },
  {
   "cell_type": "markdown",
   "metadata": {},
   "source": [
    "## Challenge 🤺 - 15m\n",
    "\n",
    "Crear una función de un proceso que se les ocurra que tenga varios pasos.\n",
    "Ejecutar la función 3 veces."
   ]
  },
  {
   "cell_type": "markdown",
   "metadata": {},
   "source": [
    "## Solucion de Cecilia :)"
   ]
  },
  {
   "cell_type": "code",
   "execution_count": 39,
   "metadata": {},
   "outputs": [
    {
     "name": "stdout",
     "output_type": "stream",
     "text": [
      "buscar por genero\n",
      "definir titulo del libro\n",
      "luque\n",
      "ubicar libreria con stock\n",
      "buscar por genero\n",
      "definir titulo del libro\n",
      "asuncion\n",
      "ubicar libreria con stock\n",
      "buscar por genero\n",
      "definir titulo del libro\n",
      "lambare\n",
      "ubicar libreria con stock\n"
     ]
    }
   ],
   "source": [
    "def librolup(): #nombre de la funcion\n",
    "    print('buscar por genero') #de acuerdo a gustos \n",
    "    print('definir titulo del libro')\n",
    "    print(input('definir rango de ubicacion'))\n",
    "    print('ubicar libreria con stock') # se define funciones de acuerdo a lo solicitado\n",
    "\n",
    "librolup()\n",
    "librolup()\n",
    "librolup()"
   ]
  },
  {
   "cell_type": "markdown",
   "metadata": {},
   "source": [
    "## Parametros y Argumentos"
   ]
  },
  {
   "cell_type": "code",
   "execution_count": null,
   "metadata": {},
   "outputs": [],
   "source": [
    "def comprar_lavarropas(marca): # Parámetro\n",
    "\n",
    "    print(f\"Pedir un lavarropas de la marca {marca}\" )\n",
    "    print(\"pagar\")\n",
    "\n",
    "comprar_lavarropas(\"midas\")# Llamada con argumento\n",
    "comprar_lavarropas(\"tokyo\")# Llamada con argumento"
   ]
  },
  {
   "cell_type": "markdown",
   "metadata": {},
   "source": [
    "## SCOPE"
   ]
  },
  {
   "cell_type": "code",
   "execution_count": null,
   "metadata": {},
   "outputs": [],
   "source": [
    "# Kg de un lavarropas\n",
    "kg = 8 # esta variable vale 8 en todas partes\n",
    "\n",
    "def kg_lavarropas():\n",
    "    kg = 14 # esta variable vale 14 en mi funcion\n",
    "    print(f\"mi lavarropas es de {kg} kg\")\n",
    "\n",
    "kg_lavarropas()\n",
    "\n",
    "\n",
    "print(f\"mi lavarropas es de {kg} kg\") "
   ]
  },
  {
   "cell_type": "markdown",
   "metadata": {},
   "source": [
    "## Challenge 🤺 - 15m\n",
    "Escribir una funcion que te permita calcular la edad de una persona solicitando su anho de nacimiento y su nombre. \n",
    "Al final debe imprimir un mensaje que diga \"Hola soy {nombre} y tengo (edad)\". Ejecutar la funcion tres veces."
   ]
  }
 ],
 "metadata": {
  "kernelspec": {
   "display_name": "Python 3",
   "language": "python",
   "name": "python3"
  },
  "language_info": {
   "codemirror_mode": {
    "name": "ipython",
    "version": 3
   },
   "file_extension": ".py",
   "mimetype": "text/x-python",
   "name": "python",
   "nbconvert_exporter": "python",
   "pygments_lexer": "ipython3",
   "version": "3.10.12"
  }
 },
 "nbformat": 4,
 "nbformat_minor": 2
}
