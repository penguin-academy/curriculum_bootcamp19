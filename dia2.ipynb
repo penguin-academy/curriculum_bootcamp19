{
 "cells": [
  {
   "cell_type": "markdown",
   "metadata": {},
   "source": [
    "## Challenge 🤺 - 15m\n",
    "\n",
    "Escribir una funcion que te permita calcular la edad de una persona solicitando su anho de nacimiento y su nombre. \n",
    "Al final debe imprimir un mensaje que diga \"Hola soy {nombre} y tengo (edad)\". Ejecutar la funcion tres veces."
   ]
  },
  {
   "cell_type": "code",
   "execution_count": 1,
   "metadata": {},
   "outputs": [
    {
     "name": "stdout",
     "output_type": "stream",
     "text": [
      "hola! soy chiara y tengo 22\n",
      "hola! soy Laura y tengo 33\n",
      "hola! soy Tania y tengo 27\n"
     ]
    }
   ],
   "source": [
    "def calcular_edad(nombre, anho_de_nacimiento): # crear mi funcion y solicitar los parametros\n",
    "    edad = 2023 - anho_de_nacimiento # calcular la edad\n",
    "    print(f\"hola! soy {nombre} y tengo {edad}\") # imprimir el mensaje\n",
    "\n",
    "# ejecutar mi funcion\n",
    "calcular_edad(\"chiara\", 2001)\n",
    "calcular_edad(\"Laura\", 1990)\n",
    "calcular_edad(\"Tania\", 1996)\n",
    "\n"
   ]
  },
  {
   "cell_type": "code",
   "execution_count": 4,
   "metadata": {},
   "outputs": [
    {
     "name": "stdout",
     "output_type": "stream",
     "text": [
      "hola! soy chiara y tengo 22\n"
     ]
    }
   ],
   "source": [
    "nombre_usuario = input(\"ingrese su nombre\")\n",
    "anho_de_nacimiento_usuario = int(input(\"ingrese su anho de nacimiento\"))\n",
    "\n",
    "calcular_edad(nombre_usuario, anho_de_nacimiento_usuario)"
   ]
  },
  {
   "cell_type": "markdown",
   "metadata": {},
   "source": [
    "## Operadores de comparacion"
   ]
  },
  {
   "cell_type": "markdown",
   "metadata": {},
   "source": [
    "Los operadores logico son:\n",
    "\n",
    "- Menor que: <\n",
    "- Mayor que: >\n",
    "- Igual que: ==\n",
    "- Diferente que: !=\n",
    "- Menor o igual que: <=\n",
    "- Mayor o igual que: >="
   ]
  },
  {
   "cell_type": "code",
   "execution_count": 6,
   "metadata": {},
   "outputs": [
    {
     "name": "stdout",
     "output_type": "stream",
     "text": [
      "False\n",
      "True\n"
     ]
    }
   ],
   "source": []
  },
  {
   "cell_type": "code",
   "execution_count": 8,
   "metadata": {},
   "outputs": [
    {
     "name": "stdout",
     "output_type": "stream",
     "text": [
      "False\n"
     ]
    }
   ],
   "source": [
    "suma = 2 + 5\n",
    "\n",
    "igual_a = suma != 7\n",
    "print(igual_a)"
   ]
  },
  {
   "cell_type": "markdown",
   "metadata": {},
   "source": [
    "## Condicionales"
   ]
  },
  {
   "cell_type": "code",
   "execution_count": 30,
   "metadata": {},
   "outputs": [
    {
     "name": "stdout",
     "output_type": "stream",
     "text": [
      "True\n",
      "<class 'bool'>\n",
      "cacahuate\n"
     ]
    }
   ],
   "source": [
    "# Ejemplo:\n",
    "primer_numero = 4\n",
    "segundo_numero = 5\n",
    "\n",
    "menor_que = primer_numero < segundo_numero\n",
    "print(menor_que)\n",
    "\n",
    "mayor_que = primer_numero > segundo_numero\n",
    "print(type(mayor_que))\n",
    "\n",
    "if primer_numero > 3 and segundo_numero < 10:\n",
    "    print(\"cacahuate\")\n",
    "else:\n",
    "    print(\"kiwi\")"
   ]
  },
  {
   "cell_type": "code",
   "execution_count": 15,
   "metadata": {},
   "outputs": [
    {
     "name": "stdout",
     "output_type": "stream",
     "text": [
      "es mayor, puede ingresar\n"
     ]
    }
   ],
   "source": [
    "edad = 18\n",
    "\n",
    "if edad < 18: # si la edad es menor a 18\n",
    "    print(\"es menor, no puede ingresar\")\n",
    "else: # si no se cumple la condicion anterior\n",
    "    print(\"es mayor, puede ingresar\")"
   ]
  },
  {
   "cell_type": "markdown",
   "metadata": {},
   "source": [
    "### Challenge 🤺 - 20m\n",
    "\n",
    "Escribir un programa que evalue si una persona es activa laboralmente. Si es menor a 18 imprimir \"menor de edad\" si es mayor a 65 imprimir \"jubilado\" y si ninguna de las anteriores se cumple imprimir \"activo laboralmente\"\n",
    "\n",
    "- Menor que: <\n",
    "- Mayor que: >\n",
    "- Igual que: ==\n",
    "- Diferente que: !=\n",
    "- Menor o igual que: <=\n",
    "- Mayor o igual que: >="
   ]
  },
  {
   "cell_type": "markdown",
   "metadata": {},
   "source": [
    "## Solucion de Bianca :)"
   ]
  },
  {
   "cell_type": "code",
   "execution_count": 19,
   "metadata": {},
   "outputs": [
    {
     "name": "stdout",
     "output_type": "stream",
     "text": [
      "El trabajador es un personal jubilado\n"
     ]
    }
   ],
   "source": [
    "\"\"\"Escribir un programa que evalue si una persona es activa laboralmente. Si es menor a 18, imprimi menor de edad\n",
    "si es mayor a 65 jubilado y si ninguna de las anteriores se cumple imprimir activo laboralmente\"\"\"\n",
    "edad= int(input(\"Introduzca su edad: \"))\n",
    "\n",
    "#Se inicializa el bucle\n",
    "if edad < 18:\n",
    "    print(\"El individuo es menor de edad \")\n",
    "elif edad >= 18 and edad <=65:\n",
    "    print(\"El trabajador es activo laboralmente\")\n",
    "else:\n",
    "    print(\"El trabajador es un personal jubilado\")"
   ]
  },
  {
   "cell_type": "markdown",
   "metadata": {},
   "source": [
    "## Solucion de Angeles :)"
   ]
  },
  {
   "cell_type": "code",
   "execution_count": 22,
   "metadata": {},
   "outputs": [
    {
     "name": "stdout",
     "output_type": "stream",
     "text": [
      "Es activo laboralmente\n"
     ]
    }
   ],
   "source": [
    "edad= int(input(\"ingrese su edad\"))\n",
    "if edad <18:\n",
    "     print(\"es menor de edad\")\n",
    "elif edad > 65:\n",
    "    print(\"Es jubilado\")\n",
    "else:\n",
    "    print(\"Es activo laboralmente\")"
   ]
  },
  {
   "cell_type": "markdown",
   "metadata": {},
   "source": [
    "### Challenge 🤺 - 20m\n",
    "\n",
    "Escribir un programa en el que se pregunte al usuario por una temperatura (en grados Celsius), imprima la temperatura escrita, y luego clasificar la temperatura ingresada en los siguientes niveles:\n",
    "\n",
    "Entre -10 y 18 grados, que imprima \"Fresquete\".\n",
    "Entre 19 y 30 grados, que imprima \"Calor'i\".\n",
    "Entre 31 y 45 grados, que imprima \"Hakuuuuuu\".\n",
    "Para todo lo demás, imprimir \"Ñamano mba'e!\"."
   ]
  },
  {
   "cell_type": "markdown",
   "metadata": {},
   "source": [
    "## Solucion de Arami :)"
   ]
  },
  {
   "cell_type": "code",
   "execution_count": 32,
   "metadata": {},
   "outputs": [
    {
     "name": "stdout",
     "output_type": "stream",
     "text": [
      "La temperatura actual es 46 grados celsius\n",
      "nhamano mba'e\n"
     ]
    }
   ],
   "source": [
    "temperatura = int(input(\"Por favor, ingrese la temperatura actual\"))\n",
    "print(f\"La temperatura actual es {temperatura} grados celsius\")\n",
    "\n",
    "if temperatura >= -10 and temperatura <= 18:\n",
    "    print(\"Hace frequete\")\n",
    "elif temperatura >= 19 and temperatura <= 30:\n",
    "    print(\"Hace calor'i\")\n",
    "elif temperatura >=31 and temperatura <=45:\n",
    "    print(\"Haakurooooo\")\n",
    "else:\n",
    "    print(\"nhamano mba'e\")"
   ]
  },
  {
   "cell_type": "markdown",
   "metadata": {},
   "source": [
    "## Solucion de Adri :)"
   ]
  },
  {
   "cell_type": "code",
   "execution_count": 33,
   "metadata": {},
   "outputs": [
    {
     "name": "stdout",
     "output_type": "stream",
     "text": [
      "Ñamano mba'e!\n"
     ]
    }
   ],
   "source": [
    "temperatura = int(input(\"ingrese la temperatura actual en grados celcius\"))\n",
    "\n",
    "if temperatura <= -10 and temperatura <= 18:\n",
    "    print(\"fresquete\")\n",
    "elif temperatura >= 19 and temperatura == 30:\n",
    "    print(\"Calor'i\")\n",
    "elif temperatura == 31 and temperatura >= 45:\n",
    "    print(\"Hakuuuuuu\")\n",
    "else:\n",
    "    print(\"Ñamano mba'e!\")"
   ]
  },
  {
   "cell_type": "markdown",
   "metadata": {},
   "source": [
    "## Solucion de Lauri :)"
   ]
  },
  {
   "cell_type": "code",
   "execution_count": 36,
   "metadata": {},
   "outputs": [
    {
     "name": "stdout",
     "output_type": "stream",
     "text": [
      "la temperatura actual es 15\n",
      "Fresquete\n",
      "Nhamano mba'e\n"
     ]
    }
   ],
   "source": [
    "temperatura_actual = int(input(\"ingrese la temperatura en grados celsius\"))\n",
    "print(f\"la temperatura actual es {temperatura_actual}\")\n",
    "\n",
    "if -10 <= temperatura_actual <= 18:\n",
    "    print(\"Fresquete\")\n",
    "\n",
    "elif 19 <= temperatura_actual <= 30:\n",
    "    print(\"calor'i\")\n",
    "elif 31 <= temperatura_actual <= 45:\n",
    "    print(\"Hakuuuuuuu\")\n",
    "\n",
    "else:\n",
    "    print(\"Nhamano mba'e\")"
   ]
  },
  {
   "cell_type": "markdown",
   "metadata": {},
   "source": [
    "## Bucles condicionales"
   ]
  },
  {
   "cell_type": "code",
   "execution_count": 40,
   "metadata": {},
   "outputs": [
    {
     "name": "stdout",
     "output_type": "stream",
     "text": [
      "30\n",
      "adivinaste!!!\n"
     ]
    }
   ],
   "source": [
    "numero_a_adivinar = 30\n",
    "numero_de_usuario = int(input(\"Ingrese un numero\"))\n",
    "print(numero_de_usuario)\n",
    "\n",
    "while numero_a_adivinar != numero_de_usuario: # mientras la condicion no se cumpla\n",
    "    print(\"Numero incorrecto\")\n",
    "    numero_de_usuario = int(input(\"Ingrese un numero\"))\n",
    "    print(numero_de_usuario)\n",
    "\n",
    "print(\"adivinaste!!!\")\n"
   ]
  },
  {
   "cell_type": "code",
   "execution_count": 45,
   "metadata": {},
   "outputs": [
    {
     "name": "stdout",
     "output_type": "stream",
     "text": [
      "salir\n",
      "bucle finalizado\n"
     ]
    }
   ],
   "source": [
    "palabra = \"salir\"\n",
    "palabra_usuario = input(\"ingrese una palabra\")\n",
    "print(palabra_usuario)\n",
    "\n",
    "while palabra != palabra_usuario:\n",
    "    palabra_usuario = input(\"ingrese una palabra\")\n",
    "    print(palabra_usuario)\n",
    "\n",
    "print(\"bucle finalizado\")"
   ]
  },
  {
   "cell_type": "markdown",
   "metadata": {},
   "source": [
    "## Bucles infinitos"
   ]
  },
  {
   "cell_type": "code",
   "execution_count": 46,
   "metadata": {},
   "outputs": [
    {
     "name": "stdout",
     "output_type": "stream",
     "text": [
      "el numero es incorrecto\n",
      "adivinaste!!\n"
     ]
    }
   ],
   "source": [
    "numero_secreto = 1\n",
    "\n",
    "while True:\n",
    "    numero_ingresado = int(input(\"Introduce un numero\"))\n",
    "    if numero_ingresado == numero_secreto:\n",
    "        print(\"adivinaste!!\")\n",
    "        break\n",
    "    else:\n",
    "        print(\"el numero es incorrecto\")"
   ]
  },
  {
   "cell_type": "markdown",
   "metadata": {},
   "source": [
    "### Challenge 🤺 - 15m\n",
    "Escribir un programa que almacene una contraseña en una variable, y pregunte al usuario por la contraseña hasta que introduzca la contraseña correcta.\n",
    "\n",
    "Cuando el usuario ingrese la contrasena correcta, imprimir un mensaje secreto."
   ]
  },
  {
   "cell_type": "markdown",
   "metadata": {},
   "source": [
    "## Solucion de Mariana :)"
   ]
  },
  {
   "cell_type": "code",
   "execution_count": 47,
   "metadata": {},
   "outputs": [
    {
     "name": "stdout",
     "output_type": "stream",
     "text": [
      "contrasenha incorrecta\n",
      "contrasenha incorrecta\n",
      "contrasenha correcta\n"
     ]
    }
   ],
   "source": [
    "contrasenha = \"caramelito3\" # Ingresar dato \n",
    "contrasenha_de_usuario = input (\"ingresar contraseña\") # pedir contrasenha \n",
    "\n",
    "while contrasenha != contrasenha_de_usuario : # mientras no sean iguales (!=) \n",
    "    print (\"contrasenha incorrecta\") # le va a salir esto\n",
    "    contrasenha_de_usuario = input (\"ingresar contraseña\") # volver a intentar hasta que la condición deje de cumplirse\n",
    "\n",
    "print (\"contrasenha correcta\") # cuando la condicion no se cumpla, es decir si sean iguales"
   ]
  },
  {
   "cell_type": "markdown",
   "metadata": {},
   "source": [
    "## Solucion de Lore :)"
   ]
  },
  {
   "cell_type": "code",
   "execution_count": 50,
   "metadata": {},
   "outputs": [
    {
     "name": "stdout",
     "output_type": "stream",
     "text": [
      "usted ha accedido a su cuenta de usuario exitosamente!\n"
     ]
    }
   ],
   "source": [
    "contrasenha =12345678\n",
    "contrasenha_usuario = int(input(\"ingrese su contrasenha\"))\n",
    "\n",
    "while contrasenha != contrasenha_usuario: \n",
    "    print(\"contrasenha incorrecta\")\n",
    "    contrasenha_usuario = int(input(\"ingrese su contrasenha\"))\n",
    "\n",
    "print(\"usted ha accedido a su cuenta de usuario exitosamente!\")"
   ]
  },
  {
   "cell_type": "markdown",
   "metadata": {},
   "source": [
    "## Listas\n"
   ]
  },
  {
   "cell_type": "code",
   "execution_count": 61,
   "metadata": {},
   "outputs": [
    {
     "name": "stdout",
     "output_type": "stream",
     "text": [
      "['naranja', 'peras', 'kiwis', 'sandias']\n",
      "naranja\n",
      "kiwis\n",
      "['naranja', 'peras', 'kiwis', 'sandias', 'manzana']\n",
      "['ciruela', 'peras', 'kiwis', 'sandias', 'manzana']\n",
      "['ciruela', 'peras', 'sandias', 'manzana']\n",
      "['ciruela', 'peras', 'manzana']\n",
      "4\n"
     ]
    }
   ],
   "source": [
    "lista_de_frutas = [\"naranja\", \"peras\", \"kiwis\", \"sandias\"]\n",
    "print(lista_de_frutas)\n",
    "\n",
    "lista_variada = [12, 3.9, True, \"peritas\"]\n",
    "\n",
    "# acceder a un elemento de la lista\n",
    "print(lista_de_frutas[0])\n",
    "print(lista_de_frutas[2])\n",
    "\n",
    "#anhadir un elemento \n",
    "lista_de_frutas.append(\"manzana\")\n",
    "print(lista_de_frutas)\n",
    "\n",
    "# modificar un elemento\n",
    "lista_de_frutas[0] = \"ciruela\"\n",
    "print(lista_de_frutas)\n",
    "\n",
    "# Eliminar un elemento por su valor\n",
    "lista_de_frutas.remove(\"kiwis\")\n",
    "print(lista_de_frutas)\n",
    "\n",
    "# Eliminar el elemento por su posicion\n",
    "lista_de_frutas.pop(2)\n",
    "print(lista_de_frutas)\n",
    "\n",
    "# contar elementos de una lista\n",
    "print(len(lista_variada))"
   ]
  },
  {
   "cell_type": "markdown",
   "metadata": {},
   "source": [
    "### Challenge 🤺 - 20m\n",
    "\n",
    "Crear una lista de 5 elementos. Luego, seguir los siguientes pasos.\n",
    "\n",
    "- Agregar un elemento al final de la lista.\n",
    "\n",
    "- Modificar el segundo elemento.\n",
    "\n",
    "- Eliminar el tercer elemento."
   ]
  },
  {
   "cell_type": "markdown",
   "metadata": {},
   "source": [
    "## Solucion de Naye :)"
   ]
  },
  {
   "cell_type": "code",
   "execution_count": 62,
   "metadata": {},
   "outputs": [
    {
     "name": "stdout",
     "output_type": "stream",
     "text": [
      "['verduras', 'huevos', 'pan 1k', 'jamon y queso', 'jabon']\n",
      "['verduras', 'huevos', 'pan 1k', 'jamon y queso', 'jabon', 'manzana']\n",
      "['verduras', 'colgate', 'pan 1k', 'jamon y queso', 'jabon', 'manzana']\n",
      "['verduras', 'colgate', 'jamon y queso', 'jabon', 'manzana']\n",
      "['verduras', 'colgate', 'jabon', 'manzana']\n"
     ]
    }
   ],
   "source": [
    "lista_de_super = ['verduras', 'huevos' , 'pan 1k', 'jamon y queso', 'jabon'] \n",
    "print(lista_de_super)\n",
    "\n",
    "#agregar a la lista un nuevo elemento\n",
    "lista_de_super.append(\"manzana\")\n",
    "print(lista_de_super)\n",
    "\n",
    "#modificar el segundo elemento de la lista\n",
    "lista_de_super[1] = \"colgate\"\n",
    "print(lista_de_super)\n",
    "\n",
    "#eliminar un tercer elemento de la lista \n",
    "lista_de_super.remove(\"pan 1k\")  #cambiando con el nombre del elemento\n",
    "print(lista_de_super)\n",
    "\n",
    "lista_de_super.pop(2) #cambiando por el orden del elemento\n",
    "print(lista_de_super)"
   ]
  },
  {
   "cell_type": "markdown",
   "metadata": {},
   "source": [
    "## SOlucion de Ceci :)"
   ]
  },
  {
   "cell_type": "code",
   "execution_count": 63,
   "metadata": {},
   "outputs": [
    {
     "name": "stdout",
     "output_type": "stream",
     "text": [
      "['Berenjena', 'espinaca', 'limon', 'Cafe', 'Albahaca']\n",
      "['Berenjena', 'espinaca', 'limon', 'Cafe', 'Albahaca', 'Zanahoria']\n",
      "['Berenjena', 'Lima', 'limon', 'Cafe', 'Albahaca', 'Zanahoria']\n",
      "['Berenjena', 'Lima', 'limon', 'Albahaca', 'Zanahoria']\n"
     ]
    }
   ],
   "source": [
    "lista_real= ['Berenjena', 'espinaca', 'limon', 'Cafe', 'Albahaca']# se crea la lista \n",
    "print(lista_real)\n",
    "\n",
    "#Agregar un elemento al final de la lista.\n",
    "lista_real.append('Zanahoria')\n",
    "print(lista_real)\n",
    "\n",
    "#Modificar el segundo elemento.\n",
    "lista_real[1] = 'Lima'\n",
    "print(lista_real)\n",
    "\n",
    "#Eliminar el tercer elemento.\n",
    "lista_real.remove('Cafe')\n",
    "print(lista_real)"
   ]
  },
  {
   "cell_type": "markdown",
   "metadata": {},
   "source": [
    "# Bucle FOR (iterativo)"
   ]
  },
  {
   "cell_type": "code",
   "execution_count": 64,
   "metadata": {},
   "outputs": [
    {
     "name": "stdout",
     "output_type": "stream",
     "text": [
      "Buenos dias!!!\n",
      "Buenos dias!!!\n",
      "Buenos dias!!!\n",
      "Buenos dias!!!\n",
      "Buenos dias!!!\n"
     ]
    }
   ],
   "source": [
    "# Recorrer un rango de numeros\n",
    "for i in range(5):\n",
    "    print(\"Buenos dias!!!\")"
   ]
  },
  {
   "cell_type": "code",
   "execution_count": 67,
   "metadata": {},
   "outputs": [
    {
     "name": "stdout",
     "output_type": "stream",
     "text": [
      "0\n",
      "2\n",
      "4\n",
      "6\n",
      "8\n",
      "10\n",
      "12\n",
      "14\n",
      "16\n",
      "18\n"
     ]
    }
   ],
   "source": [
    "# Recorrer un rango de numeros\n",
    "for numero in range(10):\n",
    "    print(numero * 2)"
   ]
  },
  {
   "cell_type": "code",
   "execution_count": 70,
   "metadata": {},
   "outputs": [
    {
     "name": "stdout",
     "output_type": "stream",
     "text": [
      "holas chicas\n",
      "holas chicas\n",
      "holas chicas\n",
      "holas chicas\n"
     ]
    }
   ],
   "source": [
    "# recorrer o iterar listas\n",
    "lista_de_participantes = [\"Laura\", \"Bianca\", \"Ceci\", \"Abril\"]\n",
    "\n",
    "for chicas in lista_de_participantes:\n",
    "    print(\"holas chicas\")"
   ]
  },
  {
   "cell_type": "code",
   "execution_count": 72,
   "metadata": {},
   "outputs": [
    {
     "name": "stdout",
     "output_type": "stream",
     "text": [
      "hola pinguina!!\n",
      "hola pinguina!!\n",
      "hola pinguina!!\n",
      "hola pinguina!!\n",
      "hola pinguina!!\n",
      "hola pinguina!!\n",
      "hola pinguina!!\n"
     ]
    }
   ],
   "source": [
    "# Recorrer palabras \n",
    "\n",
    "for letras in \"penguin\":\n",
    "    print(\"hola pinguina!!\")"
   ]
  },
  {
   "cell_type": "markdown",
   "metadata": {},
   "source": [
    "### Challenge 🤺 - 20m\n",
    "\n",
    "Escribir un programa que itere en un rango de 10 veces. Por cada iteracion multiplicar el iterador por dos e imprimir el resultado."
   ]
  },
  {
   "cell_type": "markdown",
   "metadata": {},
   "source": [
    "## Solucion de Aidee :)"
   ]
  },
  {
   "cell_type": "code",
   "execution_count": 73,
   "metadata": {},
   "outputs": [
    {
     "name": "stdout",
     "output_type": "stream",
     "text": [
      "Numeros Pares => rango[0, 18]: \n",
      "0\n",
      "2\n",
      "4\n",
      "6\n",
      "8\n",
      "10\n",
      "12\n",
      "14\n",
      "16\n",
      "18\n"
     ]
    }
   ],
   "source": [
    "print(\"Numeros Pares => rango[0, 18]: \")\n",
    "for i in range(10):\n",
    "    print(i*2)"
   ]
  },
  {
   "cell_type": "markdown",
   "metadata": {},
   "source": [
    "### Challenge 🤺 - 20m\n",
    "\n",
    "Recorrer los elementos de una lista de marcas e imprimir cada marca *__solamente__* si tiene 6 letras o más.\n",
    "\n",
    "Pista: len()"
   ]
  },
  {
   "cell_type": "markdown",
   "metadata": {},
   "source": [
    "## Solucion de Tania :)"
   ]
  },
  {
   "cell_type": "code",
   "execution_count": 74,
   "metadata": {},
   "outputs": [
    {
     "name": "stdout",
     "output_type": "stream",
     "text": [
      "['Nike', 'Puma', 'Adidas', 'Underarmour', 'Vans', 'Converse']\n",
      "Adidas\n",
      "Underarmour\n",
      "Converse\n"
     ]
    }
   ],
   "source": [
    "lista_marcas = [\"Nike\", \"Puma\", \"Adidas\", \"Underarmour\", \"Vans\", \"Converse\"]\n",
    "print(lista_marcas)\n",
    "\n",
    "for letras in lista_marcas:\n",
    "    len(letras) # len(letras) va a contar la cantidad de letras en cada palabra de la lista\n",
    "    if len(letras) >= 6 : # condicional de que la marca tenga igual o más que 6 letras\n",
    "        print(letras)"
   ]
  },
  {
   "cell_type": "markdown",
   "metadata": {},
   "source": [
    "## Solucion de Aru :)"
   ]
  },
  {
   "cell_type": "code",
   "execution_count": 75,
   "metadata": {},
   "outputs": [
    {
     "name": "stdout",
     "output_type": "stream",
     "text": [
      "7\n",
      "5\n",
      "6\n",
      "4\n"
     ]
    }
   ],
   "source": [
    "lista_marcas = [\"samsung\", \"apple\", \"xiaomi\", \"sony\"]\n",
    "for marcas in lista_marcas:\n",
    "    cantidad_letras = len(marcas)\n",
    "    print(cantidad_letras)"
   ]
  }
 ],
 "metadata": {
  "kernelspec": {
   "display_name": "Python 3",
   "language": "python",
   "name": "python3"
  },
  "language_info": {
   "codemirror_mode": {
    "name": "ipython",
    "version": 3
   },
   "file_extension": ".py",
   "mimetype": "text/x-python",
   "name": "python",
   "nbconvert_exporter": "python",
   "pygments_lexer": "ipython3",
   "version": "3.10.12"
  }
 },
 "nbformat": 4,
 "nbformat_minor": 2
}
