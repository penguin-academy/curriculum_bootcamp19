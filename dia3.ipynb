{
 "cells": [
  {
   "cell_type": "code",
   "execution_count": 1,
   "metadata": {},
   "outputs": [
    {
     "name": "stdout",
     "output_type": "stream",
     "text": [
      " hoy hace mucho  Calor\n"
     ]
    }
   ],
   "source": [
    "# Variables y Tipos de datos\n",
    "\n",
    "palabra = \"Calor\" # Strings - str\n",
    "numeros = 123 # Integer - int\n",
    "numero_decimales = 4.6 # Floating - float\n",
    "\n",
    "# Concatenar \n",
    "print(f\" hoy hace mucho {palabra}\")\n"
   ]
  },
  {
   "cell_type": "code",
   "execution_count": 15,
   "metadata": {},
   "outputs": [
    {
     "name": "stdout",
     "output_type": "stream",
     "text": [
      "False\n",
      "False\n"
     ]
    }
   ],
   "source": [
    "## Operadores Logicos\n",
    "palabrita = \"arbol\"\n",
    "letra1 = \"x\"\n",
    "letras2 = \"a\"\n",
    "\n",
    "letras_son_iguales = letra1 == letras2\n",
    "print(letras_son_iguales)\n",
    "\n",
    "# in \n",
    "letra_existe = letra1 in palabrita\n",
    "print(letra_existe)\n"
   ]
  },
  {
   "cell_type": "code",
   "execution_count": 14,
   "metadata": {},
   "outputs": [
    {
     "name": "stdout",
     "output_type": "stream",
     "text": [
      "la letra no existe\n"
     ]
    }
   ],
   "source": [
    "## Condicionales \n",
    "\n",
    "if letra_existe:\n",
    "    print(\"la letra existe\")\n",
    "else:\n",
    "    print(\"la letra no existe\")"
   ]
  },
  {
   "cell_type": "code",
   "execution_count": 11,
   "metadata": {},
   "outputs": [],
   "source": [
    "# Funciones\n",
    "def imprimir_saludo():\n",
    "    print(\"Buenos dias Pinguinas\")\n",
    "\n"
   ]
  },
  {
   "cell_type": "code",
   "execution_count": 12,
   "metadata": {},
   "outputs": [
    {
     "name": "stdout",
     "output_type": "stream",
     "text": [
      "Buenos dias Pinguinas\n"
     ]
    }
   ],
   "source": [
    "# Ejecutamos nuestra funcion\n",
    "imprimir_saludo()"
   ]
  },
  {
   "cell_type": "markdown",
   "metadata": {},
   "source": [
    "## Challenge 1 🤺 - 15m\n",
    "\n",
    "Crear una función que imprima la variable palabra."
   ]
  },
  {
   "cell_type": "markdown",
   "metadata": {},
   "source": [
    "## Solucion de Aru 😊"
   ]
  },
  {
   "cell_type": "code",
   "execution_count": 16,
   "metadata": {},
   "outputs": [
    {
     "name": "stdout",
     "output_type": "stream",
     "text": [
      "palabra\n"
     ]
    }
   ],
   "source": [
    "def imprimir_palabra():  #Defino el nombre de la funcion\n",
    "    print(\"palabra\")  # senhalo la palabra a imprimir \n",
    "\n",
    "imprimir_palabra()  #llamo a la funcion"
   ]
  },
  {
   "cell_type": "markdown",
   "metadata": {},
   "source": [
    "## Solucion de Lore 👍"
   ]
  },
  {
   "cell_type": "code",
   "execution_count": 19,
   "metadata": {},
   "outputs": [
    {
     "name": "stdout",
     "output_type": "stream",
     "text": [
      "arbol\n",
      "mariposa\n"
     ]
    }
   ],
   "source": [
    "# definir\n",
    "\n",
    "def imprimir_la_variable_palabra(palabra):\n",
    "    print(palabra)\n",
    "\n",
    "#ejecutando la funcion \n",
    "\n",
    "palabra_2 = \"amanecer\"\n",
    "imprimir_la_variable_palabra(\"arbol\")\n",
    "imprimir_la_variable_palabra(\"mariposa\")"
   ]
  },
  {
   "cell_type": "markdown",
   "metadata": {},
   "source": [
    "# Parametros y argumentos"
   ]
  },
  {
   "cell_type": "code",
   "execution_count": 30,
   "metadata": {},
   "outputs": [
    {
     "name": "stdout",
     "output_type": "stream",
     "text": [
      "4\n",
      "8\n"
     ]
    }
   ],
   "source": [
    "def sumar_numeros(numero_1, numero_2): # Definir mi funcion con sus parametros (variables)\n",
    "    sumar = numero_1 + numero_2 # utilizo mis parametros (variables)\n",
    "    return sumar # imprimir el resultado\n",
    "\n",
    "sumar_numeros(1, 8) # llamo a mi funcion y le defino el valor de mis argumentos\n",
    "sumar_numeros(5, 9)# llamo a mi funcion y le defino el valor de mis argumentos\n",
    "\n",
    "# multiplicar por dos el resultado\n",
    "\n",
    "resultado = sumar_numeros(2 , 2)\n",
    "print(resultado)\n",
    "multiplicacion = resultado * 2 \n",
    "print(multiplicacion)"
   ]
  },
  {
   "cell_type": "markdown",
   "metadata": {},
   "source": [
    "## Challenge 2 🤺 - 15 min\n",
    "Crear una función que reciba dos letras (parámetros) y que verifique si son iguales:\n",
    "\n",
    "1. Si son iguales, imprimir \"Las letras son iguales\".\n",
    "\n",
    "2. De lo contrario, imprimir \"Las letras son diferentes\"."
   ]
  },
  {
   "cell_type": "markdown",
   "metadata": {},
   "source": [
    "## Solucion de Mariana 💋"
   ]
  },
  {
   "cell_type": "code",
   "execution_count": 23,
   "metadata": {},
   "outputs": [
    {
     "name": "stdout",
     "output_type": "stream",
     "text": [
      "Las letras son iguales\n",
      "Las letras son diferentes\n"
     ]
    }
   ],
   "source": [
    "def letras_iguales (letra_1, letra_2): #crear la funcion con 2 parámetros\n",
    "    if letra_1 == letra_2: # establecer la condicion\n",
    "        print (\"Las letras son iguales\") # establecer lo que debe imprimir si se cumple la concicion\n",
    "    else: # si no se cumple\n",
    "        print (\"Las letras son diferentes\") # establecer que imprimir si no\n",
    "\n",
    "letras_iguales(\"y\",\"y\") # darle un valor a los parámetros\n",
    "letras_iguales (\"a\", \"x\")"
   ]
  },
  {
   "cell_type": "markdown",
   "metadata": {},
   "source": [
    "## Solucion de Ceci ❤"
   ]
  },
  {
   "cell_type": "code",
   "execution_count": 25,
   "metadata": {},
   "outputs": [
    {
     "name": "stdout",
     "output_type": "stream",
     "text": [
      "Las letras son iguales\n"
     ]
    }
   ],
   "source": [
    "def terreneitor(alfa , beta):\n",
    "\n",
    "    if alfa == beta:\n",
    "        print('Las letras son iguales')\n",
    "    else:\n",
    "        print(\"Las letras son diferentes\")\n",
    "\n",
    "\n",
    "terreneitor('c','c')"
   ]
  },
  {
   "cell_type": "markdown",
   "metadata": {},
   "source": [
    "## Return"
   ]
  },
  {
   "cell_type": "code",
   "execution_count": 40,
   "metadata": {},
   "outputs": [
    {
     "name": "stdout",
     "output_type": "stream",
     "text": [
      "6\n"
     ]
    }
   ],
   "source": [
    "# funcion para calcular el total de una compra y luego aplicarle un descuento \n",
    "\n",
    "def calcular_total(producto1 , producto2):\n",
    "    suma = producto1 + producto2\n",
    "    return suma\n",
    "\n",
    "mi_funcion = calcular_total(3, 3)\n",
    "print(mi_funcion)"
   ]
  },
  {
   "cell_type": "code",
   "execution_count": 41,
   "metadata": {},
   "outputs": [
    {
     "name": "stdout",
     "output_type": "stream",
     "text": [
      "80000\n",
      "75000\n"
     ]
    }
   ],
   "source": [
    "# Aplicar el descuento \n",
    "descuento = 5000 # gs\n",
    "\n",
    "total = calcular_total(50000, 30000)\n",
    "print(total)\n",
    "\n",
    "total_con_descuento = total - descuento\n",
    "print(total_con_descuento)"
   ]
  },
  {
   "cell_type": "markdown",
   "metadata": {},
   "source": [
    "## Challenge 3 🤺 - 15m\n",
    "\n",
    "Crear una función que reciba dos parámetros (una palabra y un número), y que retorne `True` si el número es igual a la cantidad de letras de la palabra. En caso contrario, que retorne `False`.\n",
    "\n",
    "Pista: `cantidad de letras de una palabra en python` len()"
   ]
  },
  {
   "cell_type": "markdown",
   "metadata": {},
   "source": [
    "## Solucion de Diana 😁"
   ]
  },
  {
   "cell_type": "code",
   "execution_count": null,
   "metadata": {},
   "outputs": [],
   "source": [
    "def ejercicio(palabra , numero) : # definimos la funcion con los parametros palabra y numero\n",
    "    longitud = len(palabra) # usamos len para contar la cantidad de letras que tiene la palabra\n",
    "    if longitud == numero : # si longitud es igual a numero me debe retornar true\n",
    "        return True \n",
    "    else : # en caso contrario me debe retornar false\n",
    "        return False\n",
    "\n",
    "ejercicio(\"hola\" , 6) # llamar a la funcion e introducir una palabra y un numero"
   ]
  },
  {
   "cell_type": "markdown",
   "metadata": {},
   "source": [
    "## Solucion de Nathalia 😊"
   ]
  },
  {
   "cell_type": "code",
   "execution_count": null,
   "metadata": {},
   "outputs": [],
   "source": [
    "\"\"\"Crear una función que reciba dos parámetros (una palabra y un número), y que retorne True si el número es igual a la cantidad de letras de la palabra. En caso contrario, que retorne False. Pista: cantidad de letras de una palabra en python\"\"\"\n",
    "def retorno(palabra, numero):\n",
    "    if numero == (len(palabra)):\n",
    "        return True\n",
    "    else:\n",
    "        return False\n",
    "\n",
    "palabra = input('Escribi la primera palabra que se te ocurra:')\n",
    "numero = int(input('Escribe el numero que se te ocurra'))\n",
    "\n",
    "retorno(palabra, numero)"
   ]
  },
  {
   "cell_type": "markdown",
   "metadata": {},
   "source": [
    "## Challenge 4 🤺 - 20 min\n",
    "Crear función que revise si una palabra contiene una letra. En caso de que la contenga, retornar la letra entre corchetes `[]`. De lo contrario, retornar solo la letra.\n",
    "\n",
    "\n"
   ]
  },
  {
   "cell_type": "markdown",
   "metadata": {},
   "source": [
    "## Solucion de Abi 🌹"
   ]
  },
  {
   "cell_type": "code",
   "execution_count": 3,
   "metadata": {},
   "outputs": [
    {
     "data": {
      "text/plain": [
       "'e'"
      ]
     },
     "execution_count": 3,
     "metadata": {},
     "output_type": "execute_result"
    }
   ],
   "source": [
    "def funcion_funcion(palabra_random,letra_random):\n",
    "    if letra_random in(palabra_random):\n",
    "        return f\"[{letra_random}]\"\n",
    "    else:\n",
    "        return letra_random\n",
    "\n",
    "palabra_1= input(\"ingrese una palabra\") \n",
    "letra_1= input(\"ingrese una palabra\") \n",
    "\n",
    "funcion_funcion(palabra_1,letra_1)"
   ]
  },
  {
   "cell_type": "markdown",
   "metadata": {},
   "source": [
    "## Solucion de Gabriela 🎁"
   ]
  },
  {
   "cell_type": "code",
   "execution_count": 4,
   "metadata": {},
   "outputs": [
    {
     "data": {
      "text/plain": [
       "'[t]'"
      ]
     },
     "execution_count": 4,
     "metadata": {},
     "output_type": "execute_result"
    }
   ],
   "source": [
    "def inclusion_deletras(palabra, letra):\n",
    "    palabra_contenida = letra in palabra\n",
    "    if palabra_contenida:\n",
    "        return (f\"[{letra}]\")\n",
    "    else:\n",
    "        return letra\n",
    "\n",
    "inclusion_deletras(\"Brillante\", \"t\")"
   ]
  },
  {
   "cell_type": "markdown",
   "metadata": {},
   "source": [
    "## list()"
   ]
  },
  {
   "cell_type": "code",
   "execution_count": 6,
   "metadata": {},
   "outputs": [
    {
     "name": "stdout",
     "output_type": "stream",
     "text": [
      "gatito\n",
      "['g', 'a', 't', 'i', 't', 'o']\n",
      "['a', 'r', 'b', 'o', 'l']\n"
     ]
    }
   ],
   "source": [
    "palabra_a_encontrar = input(\"Ingresar palabra a encontrar\")\n",
    "print(palabra_a_encontrar)\n",
    "\n",
    "letras_de_la_palabra_a_encontrar = list(palabra_a_encontrar)\n",
    "print(letras_de_la_palabra_a_encontrar)\n",
    "\n",
    "palabra_2 = \"arbol\"\n",
    "print(list(palabra_2))"
   ]
  },
  {
   "cell_type": "markdown",
   "metadata": {},
   "source": [
    "## Challenge 5 🤺 - 20m\n",
    "\n",
    "Pedir al usuario que ingrese 1 palabra, luego convertir esa palabra a una lista con sus caracteres con `list()`. Agregar esa lista de caracteres a una lista llamada `palabras_ingresadas`. Repetir el proceso 3 veces. Cada vez que se agregue una lista de caracteres, imprimir la lista `palabras_ingresadas`.\n",
    "\n",
    "\n",
    "Ejemplo del resultado esperado:\n",
    "\n",
    "```[['c', 'i', 'e', 'l', 'o']]``` # Al ingresar la primera palabra\n",
    "\n",
    "```[['c', 'i', 'e', 'l', 'o'], ['c', 'a', 'l', 'o', 'r']]``` # Al ingresar la segunda palabra\n",
    "\n",
    "```[['c', 'i', 'e', 'l', 'o'], ['c', 'a', 'l', 'o', 'r'], ['n', 'u', 'b', 'e', 's']]``` # Al ingresar la tercera palabra"
   ]
  },
  {
   "cell_type": "code",
   "execution_count": 9,
   "metadata": {},
   "outputs": [
    {
     "name": "stdout",
     "output_type": "stream",
     "text": [
      "[['p', 'i', 'b', 'g', 'u', 'i', 'n', 'o']]\n",
      "[['p', 'i', 'b', 'g', 'u', 'i', 'n', 'o'], ['a', 'm', 'b', 'u', 'l', 'a', 'n', 'c', 'i', 'a']]\n",
      "[['p', 'i', 'b', 'g', 'u', 'i', 'n', 'o'], ['a', 'm', 'b', 'u', 'l', 'a', 'n', 'c', 'i', 'a'], ['r', 'o', 's', 'q', 'u', 'i', 't', 'a']]\n"
     ]
    }
   ],
   "source": [
    "# Pedir al usuario que ingrese una palabra\n",
    "palabra = input(\"Ingrese una palabra\")\n",
    "# Convertir a una lista de caracteres\n",
    "caracteres = list(palabra) # lista de caracteres\n",
    "# agregar la lista de caracteres a palabras ingresadas (nueva lista)\n",
    "palabras_ingresadas = [] # lista vacia\n",
    "palabras_ingresadas.append(caracteres)\n",
    "print(palabras_ingresadas)\n",
    "# repetir el proceso 3 veces\n",
    "\n",
    "# Pedir al usuario que ingrese una palabra\n",
    "palabra1 = input(\"Ingrese una palabra\")\n",
    "# Convertir a una lista de caracteres\n",
    "caracteres1 = list(palabra1) # lista de caracteres\n",
    "# agregar la lista de caracteres a palabras ingresadas (nueva lista)\n",
    "palabras_ingresadas.append(caracteres1)\n",
    "print(palabras_ingresadas)\n",
    "\n",
    "\n",
    "# Pedir al usuario que ingrese una palabra\n",
    "palabra2 = input(\"Ingrese una palabra\")\n",
    "# Convertir a una lista de caracteres\n",
    "caracteres2 = list(palabra2) # lista de caracteres\n",
    "# agregar la lista de caracteres a palabras ingresadas (nueva lista)\n",
    "palabras_ingresadas.append(caracteres2)\n",
    "print(palabras_ingresadas)\n",
    "\n"
   ]
  },
  {
   "cell_type": "code",
   "execution_count": 10,
   "metadata": {},
   "outputs": [
    {
     "name": "stdout",
     "output_type": "stream",
     "text": [
      "[['g', 'a', 't', 'i', 't', 'o']]\n",
      "[['g', 'a', 't', 'i', 't', 'o'], ['p', 'e', 'r', 'r', 'i', 't', 'o']]\n",
      "[['g', 'a', 't', 'i', 't', 'o'], ['p', 'e', 'r', 'r', 'i', 't', 'o'], ['p', 'i', 'n', 'g', 'u', 'i', 'n', 'o']]\n"
     ]
    }
   ],
   "source": [
    "lista_vacia = []\n",
    "\n",
    "for iterador in range(3):\n",
    "    # Pedir al usuario que ingrese una palabra\n",
    "    palabra_ingresada = input(\"Ingrese una palabra\")\n",
    "    # Convertir a una lista de caracteres\n",
    "    caracteres_lista = list(palabra_ingresada) # lista de caracteres\n",
    "    # agregar la lista de caracteres a palabras ingresadas (nueva lista)\n",
    "    lista_vacia.append(caracteres_lista)\n",
    "    print(lista_vacia)"
   ]
  },
  {
   "cell_type": "markdown",
   "metadata": {},
   "source": [
    "## Funcion Verificadora"
   ]
  },
  {
   "cell_type": "code",
   "execution_count": 17,
   "metadata": {},
   "outputs": [],
   "source": [
    "# crear nuestra funcion\n",
    "def obtener_fila_verificada(palabra_a_encontrar, palabra_ingresada):\n",
    "# Crear una lista vacia letras_verificadas para las letras de la palabra luego de ser verificadas\n",
    "    letras_verificadas = []\n",
    "# Definir la cantidad de letras de la palabra a encontrar\n",
    "    cantidad_de_letras = 5\n",
    "# Recorrer la plabra\n",
    "    for posicion in range(cantidad_de_letras):\n",
    "        las_letras_son_iguales = palabra_a_encontrar[posicion] == palabra_ingresada[posicion]\n",
    "\n",
    "        las_letras_existen = palabra_ingresada[posicion] in palabra_a_encontrar\n",
    "\n",
    "# si las letras existen en la palabra y sus posiciones coinciden: encerrar entre corchetes [] y agregar a nuestra lista principal\n",
    "        if las_letras_son_iguales:\n",
    "            letras_verificadas.append(\"[\"+palabra_ingresada[posicion]+\"]\")\n",
    "# si las letras existen en la palabra pero sus posiciones no coinciden: encerrar la letra entre parentesis () y agregar a la lista principal\n",
    "        elif las_letras_existen:\n",
    "            letras_verificadas.append(\"(\"+palabra_ingresada[posicion]+\")\")\n",
    "# si las letras no existen: agregar a la lista principal sin modificar \n",
    "        else:\n",
    "            letras_verificadas.append(palabra_ingresada[posicion])\n",
    "# Retornar el resultado\n",
    "    return letras_verificadas"
   ]
  },
  {
   "cell_type": "markdown",
   "metadata": {},
   "source": [
    "## Probamos nuestra funcion"
   ]
  },
  {
   "cell_type": "code",
   "execution_count": 19,
   "metadata": {},
   "outputs": [
    {
     "name": "stdout",
     "output_type": "stream",
     "text": [
      "['g', '(a)', 't', '[o]', 's']\n"
     ]
    }
   ],
   "source": [
    "palabra_secreta = \"arbol\"\n",
    "palabra_usuario = input(\"ingrese una palabra\")\n",
    "\n",
    "linea_verificada = obtener_fila_verificada(palabra_secreta, palabra_usuario)\n",
    "print(linea_verificada)"
   ]
  },
  {
   "cell_type": "markdown",
   "metadata": {},
   "source": [
    "## Challenge 6 🤺 - 20m\n",
    "\n",
    "Dada la lista de ejemplo: \n",
    "\n",
    "lista = [['h', 'o', 'l', 'i', 's'], ['h', 'e', 'l', 'l', 'o'], ['h', 'a', 'l', 'l', 'o']]\n",
    "\n",
    "Crear una función que imprima una grilla (lista de listas), una línea por cada lista dentro de la lista principal.\n",
    "\n",
    "Ejemplo del resultado esperado:\n",
    "\n",
    "```\n",
    "['h', 'o', 'l', 'i', 's']\n",
    "['h', 'e', 'l', 'l', 'o']\n",
    "['h', 'a', 'l', 'l', 'o']\n",
    "```"
   ]
  },
  {
   "cell_type": "code",
   "execution_count": 20,
   "metadata": {},
   "outputs": [
    {
     "name": "stdout",
     "output_type": "stream",
     "text": [
      "['h', 'o', 'l', 'i', 's']\n",
      "['h', 'e', 'l', 'l', 'o']\n",
      "['h', 'a', 'l', 'l', 'o']\n"
     ]
    }
   ],
   "source": [
    "lista_de_listas = [['h', 'o', 'l', 'i', 's'], ['h', 'e', 'l', 'l', 'o'], ['h', 'a', 'l', 'l', 'o']]\n",
    "\n",
    "def imprimir_grilla(lista):\n",
    "    cantidad_de_filas = len(lista)\n",
    "\n",
    "    for fila in range(cantidad_de_filas):\n",
    "        print(lista[fila])\n",
    "\n",
    "imprimir_grilla(lista_de_listas)\n",
    "\n"
   ]
  }
 ],
 "metadata": {
  "kernelspec": {
   "display_name": "Python 3",
   "language": "python",
   "name": "python3"
  },
  "language_info": {
   "codemirror_mode": {
    "name": "ipython",
    "version": 3
   },
   "file_extension": ".py",
   "mimetype": "text/x-python",
   "name": "python",
   "nbconvert_exporter": "python",
   "pygments_lexer": "ipython3",
   "version": "3.12.0"
  }
 },
 "nbformat": 4,
 "nbformat_minor": 2
}
