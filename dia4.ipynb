{
 "cells": [
  {
   "cell_type": "markdown",
   "metadata": {},
   "source": [
    "## Programacion Orientada a Objetos"
   ]
  },
  {
   "cell_type": "code",
   "execution_count": 2,
   "metadata": {},
   "outputs": [
    {
     "name": "stdout",
     "output_type": "stream",
     "text": [
      "2\n",
      "2\n"
     ]
    }
   ],
   "source": [
    "class Personajes: # Crear mi clase \n",
    "    piernas = 2 \n",
    "\n",
    "primer_personaje = Personajes() # creo mi objeto\n",
    "print(primer_personaje.piernas)\n",
    "personaje_secundario = Personajes()\n",
    "print(personaje_secundario.piernas)"
   ]
  },
  {
   "cell_type": "markdown",
   "metadata": {},
   "source": [
    "## Atributos (caracteristicas de mi clase)\n",
    "\n",
    "- Atributo de Clase (los atributos que comparten todos mis objetos)\n",
    "- Atributos de Instancia (los atributos que tienen cada uno de los personajes)"
   ]
  },
  {
   "cell_type": "code",
   "execution_count": 16,
   "metadata": {},
   "outputs": [
    {
     "ename": "AttributeError",
     "evalue": "'Humano' object has no attribute 'locote'",
     "output_type": "error",
     "traceback": [
      "\u001b[1;31m---------------------------------------------------------------------------\u001b[0m",
      "\u001b[1;31mAttributeError\u001b[0m                            Traceback (most recent call last)",
      "\u001b[1;32mc:\\Users\\Kurama\\Desktop\\btp-mujeres\\dia4.ipynb Cell 4\u001b[0m line \u001b[0;36m1\n\u001b[0;32m     <a href='vscode-notebook-cell:/c%3A/Users/Kurama/Desktop/btp-mujeres/dia4.ipynb#W3sZmlsZQ%3D%3D?line=13'>14</a>\u001b[0m segundo_humano \u001b[39m=\u001b[39m Humano(\u001b[39m27\u001b[39m, \u001b[39m\"\u001b[39m\u001b[39mCeci\u001b[39m\u001b[39m\"\u001b[39m, \u001b[39m\"\u001b[39m\u001b[39mCastanho\u001b[39m\u001b[39m\"\u001b[39m) \u001b[39m# segundo objeto\u001b[39;00m\n\u001b[0;32m     <a href='vscode-notebook-cell:/c%3A/Users/Kurama/Desktop/btp-mujeres/dia4.ipynb#W3sZmlsZQ%3D%3D?line=14'>15</a>\u001b[0m tercer_humano \u001b[39m=\u001b[39m Humano(\u001b[39m26\u001b[39m, \u001b[39m\"\u001b[39m\u001b[39mCarolina\u001b[39m\u001b[39m\"\u001b[39m, \u001b[39m\"\u001b[39m\u001b[39mRojo\u001b[39m\u001b[39m\"\u001b[39m)  \u001b[39m# tercer objeto\u001b[39;00m\n\u001b[1;32m---> <a href='vscode-notebook-cell:/c%3A/Users/Kurama/Desktop/btp-mujeres/dia4.ipynb#W3sZmlsZQ%3D%3D?line=16'>17</a>\u001b[0m \u001b[39mprint\u001b[39m(primera_humana\u001b[39m.\u001b[39mojos, primera_humana\u001b[39m.\u001b[39;49mlocote)\n\u001b[0;32m     <a href='vscode-notebook-cell:/c%3A/Users/Kurama/Desktop/btp-mujeres/dia4.ipynb#W3sZmlsZQ%3D%3D?line=17'>18</a>\u001b[0m \u001b[39mprint\u001b[39m(segundo_humano\u001b[39m.\u001b[39mnacionalidad)\n\u001b[0;32m     <a href='vscode-notebook-cell:/c%3A/Users/Kurama/Desktop/btp-mujeres/dia4.ipynb#W3sZmlsZQ%3D%3D?line=18'>19</a>\u001b[0m \u001b[39mprint\u001b[39m(tercer_humano\u001b[39m.\u001b[39mnombre)\n",
      "\u001b[1;31mAttributeError\u001b[0m: 'Humano' object has no attribute 'locote'"
     ]
    }
   ],
   "source": [
    "class Humano:\n",
    "    ojos = 2 # atributo de clase \n",
    "    nacionalidad = \"paraguayos\"\n",
    "\n",
    "    # atributo de instancia\n",
    "    def __init__(self, edad, nombre, color_pelo): # definir\n",
    "        self.edad = edad # atributo de instancia\n",
    "        self.nombre = nombre # atributo de instancia\n",
    "        self.color_pelo = color_pelo # atributo de instancia\n",
    "\n",
    "\n",
    "# crear objetos\n",
    "primera_humana = Humano(30, \"Gustavo\", \"Negro\") # mi primer objeto\n",
    "segundo_humano = Humano(27, \"Ceci\", \"Castanho\") # segundo objeto\n",
    "tercer_humano = Humano(26, \"Carolina\", \"Rojo\")  # tercer objeto\n",
    "\n",
    "print(primera_humana.ojos, primera_humana.locote)\n",
    "print(segundo_humano.nacionalidad)\n",
    "print(tercer_humano.nombre)\n",
    "\n"
   ]
  },
  {
   "cell_type": "markdown",
   "metadata": {},
   "source": [
    "## Challenge 🤺\n",
    "\n",
    "Crear una clase animales que tenga atributo de clase y de instancia.\n",
    "\n",
    "- Atributos de clase: `especie`.\n",
    "- Atributos de instancia: `nombre` & `color`\n",
    ".\n",
    "Luego, crear nuevos objetos a partir de las nuevas class. Imprimir el nombre y el color de los animales en una frase.\n",
    "Ejemplo: \"Me llamo `{nombre}` y soy un ave de color `{color}`\"."
   ]
  },
  {
   "cell_type": "markdown",
   "metadata": {},
   "source": [
    "## Solucion de Bianca 😁"
   ]
  },
  {
   "cell_type": "code",
   "execution_count": 8,
   "metadata": {},
   "outputs": [
    {
     "name": "stdout",
     "output_type": "stream",
     "text": [
      "Me llamo Halcon, soy un ave de color gris oscuro, de la familia falconidae de la clasificacion Rapaz.\n",
      "Me llamo Águila, soy un ave de color marrón, de la familia Accipítridos de la clasificacion Rapaz.\n",
      "Me llamo Loro, soy un ave de color verde, de la familia Psittacidae de la clasificacion psitaciformes\n",
      "Me llamo pinguino, soy un ave de color blanco y negro, de la familia Accipítridos de la clasificacion Ave marina no voladora.\n"
     ]
    }
   ],
   "source": [
    "\"\"\"Crear una clase de animale que tengs stributos de clase y de instancia\n",
    "Atributos de clase: especie\n",
    "Atributos de instancia: Nombre y Color. \n",
    "Luego crear nuevos objetos a partir de las nuevas clases. Imprimir el nombre y el color de los animales en una frase\n",
    "Ej: Me llamo {nombre}, soy un ave de color {color}\"\"\"\n",
    "#Creamos la clase\n",
    "# Creamos una clase llamada \"Animales\" con atributos de clase e instancia\n",
    "# Atributos de clase: especie\n",
    "# Atributos de instancia: Nombre, Color, Familia y Clasificacion.\n",
    "class Animales:\n",
    "    especie = \"oviparo\"\n",
    "\n",
    "# Creamos el constructor (init) con los atributos de instancia\n",
    "    def __init__(self, nombre, color, familia, clasificacion):\n",
    "        self.nombre = nombre\n",
    "        self.color = color\n",
    "        self.familia = familia\n",
    "        self.clasificacion = clasificacion\n",
    "\n",
    "#Creamos objetos para diferentes aves y un pinguino a partir de la clase \"Animales\"\n",
    "ave1 = Animales(\"Halcon\", \"gris oscuro\",\"falconidae\", \"Rapaz\")\n",
    "ave2 = Animales(\"Águila\", \"marrón\", \"Accipítridos\", \"Rapaz\")\n",
    "ave3 = Animales(\"Loro\", \"verde\",\"Psittacidae\", \"psitaciformes\" )\n",
    "pinguino1 = Animales(\"pinguino\", \"blanco y negro\", \"Accipítridos\", \"Ave marina no voladora\")\n",
    "\n",
    "#Imprimimos el nombre y color de cada ave y el pinguino en una frase\n",
    "print(f\"Me llamo {ave1.nombre}, soy un ave de color {ave1.color}, de la familia {ave1.familia} de la clasificacion {ave1.clasificacion}.\")\n",
    "print(f\"Me llamo {ave2.nombre}, soy un ave de color {ave2.color}, de la familia {ave2.familia} de la clasificacion {ave2.clasificacion}.\")\n",
    "print(f\"Me llamo {ave3.nombre}, soy un ave de color {ave3.color}, de la familia {ave3.familia} de la clasificacion {ave3.clasificacion}\")\n",
    "print(f\"Me llamo {pinguino1.nombre}, soy un ave de color {pinguino1.color}, de la familia {pinguino1.familia} de la clasificacion {pinguino1.clasificacion}.\")"
   ]
  },
  {
   "cell_type": "markdown",
   "metadata": {},
   "source": [
    "## Solucion de Mariana 👍"
   ]
  },
  {
   "cell_type": "code",
   "execution_count": 10,
   "metadata": {},
   "outputs": [
    {
     "name": "stdout",
     "output_type": "stream",
     "text": [
      "Mi nombre es Pipo y soy un Pinguino de el Cabo de color Blanco\n",
      "Mi nombre es Pepe y soy un Pinguino de el Cabo de color Azul\n"
     ]
    }
   ],
   "source": [
    "class Pinguino:\n",
    "    especie = \"Pinguino de el Cabo\"\n",
    "\n",
    "    def __init__(self, nombre, color):\n",
    "        self.nombre = nombre\n",
    "        self.color = color\n",
    "\n",
    "primer_pingui = Pinguino(\"Pipo\", \"Blanco\")\n",
    "print (f\"Mi nombre es\", primer_pingui. nombre, \"y soy un\", primer_pingui.especie, \"de color\", primer_pingui.color)\n",
    "\n",
    "segundo_pingui = Pinguino (\"Pepe\",\"Azul\")\n",
    "print (f\"Mi nombre es\", segundo_pingui.nombre, \"y soy un\", segundo_pingui.especie, \"de color\", segundo_pingui.color)"
   ]
  },
  {
   "cell_type": "markdown",
   "metadata": {},
   "source": [
    "## Metodos"
   ]
  },
  {
   "cell_type": "code",
   "execution_count": 20,
   "metadata": {},
   "outputs": [
    {
     "name": "stdout",
     "output_type": "stream",
     "text": [
      "tiro rayos laser por los ojos\n",
      "estoy volando 20 km\n",
      "yo soy un super humano llamado Paco y None\n"
     ]
    }
   ],
   "source": [
    "class Superheroe:\n",
    "    especie = \"super humanos\" # atributo de clase\n",
    "\n",
    "    # atributos de instancia \n",
    "    def __init__(self, nombre):\n",
    "        self.nombre = nombre\n",
    "\n",
    "    # metodos \n",
    "    def rayos_laser(self):\n",
    "        print(\"tiro rayos laser por los ojos\")\n",
    "\n",
    "    def volar(self, km):\n",
    "        print(f\"estoy volando {km} km\")\n",
    "\n",
    "# crear un objeto\n",
    "mi_superhumanito = Superheroe(\"Paco\") # definimos el atributo\n",
    "mi_superhumanito.rayos_laser() # el nombre del objeto + el nombre del metodo\n",
    "mi_accion = mi_superhumanito.volar(20) # metodo volar\n",
    "print(f\"yo soy un super humano llamado {mi_superhumanito.nombre} y {mi_accion}\")"
   ]
  },
  {
   "cell_type": "markdown",
   "metadata": {},
   "source": [
    "## Challenge 🤺\n",
    "Crear dos métodos para nuestro animal y ejecutar, debe ser algo específico de ese animal.\n",
    "\n",
    "Ejemplo: \"Cuando hablo, digo X\".\n",
    "Ejemplo: \"Cuando me muevo, hago X\"."
   ]
  },
  {
   "cell_type": "markdown",
   "metadata": {},
   "source": [
    "## Solucion de Tania 😎"
   ]
  },
  {
   "cell_type": "code",
   "execution_count": 17,
   "metadata": {},
   "outputs": [
    {
     "name": "stdout",
     "output_type": "stream",
     "text": [
      "Me llamo Alfa, y soy de color negro con manchas amarillas.\n",
      "Me llamo Canela, y soy de color blanco con manchas marrones.\n",
      "Podemos ladrar y nuestra actividad favorita es salir a pasear\n"
     ]
    }
   ],
   "source": [
    "class Mascotas:\n",
    "    especie = \"perro\"\n",
    "    def __init__(self, nombre, color):\n",
    "        self.nombre = nombre\n",
    "        self.color = color\n",
    "        print(f\"Me llamo {nombre}, y soy de color {color}.\")\n",
    "    def actividad(self, hablar, actifav): ## Crear el metodo (en sí es es una funcion)\n",
    "       self.hablar = hablar # se definen se usa self.___ y se iguala a la accion\n",
    "       self.actifav = actifav\n",
    "       print(f\"Podemos {hablar} y nuestra actividad favorita es {actifav}\") # dentro de la funcion ya se puede imprimir la oracion \n",
    "\n",
    "\n",
    "perro1 = Mascotas(\"Alfa\", \"negro con manchas amarillas\")\n",
    "perro2 = Mascotas (\"Canela\", \"blanco con manchas marrones\") \n",
    "perro1.actividad(\"ladrar\", \"salir a pasear\") # al llamar al metodo, se llama a al objeto (perro1) seguido del punto y despues directamente la actividad y los parentesis "
   ]
  },
  {
   "cell_type": "markdown",
   "metadata": {},
   "source": [
    "## Solucion de Aru 💖"
   ]
  },
  {
   "cell_type": "code",
   "execution_count": 18,
   "metadata": {},
   "outputs": [
    {
     "name": "stdout",
     "output_type": "stream",
     "text": [
      "hola soy un michi, emito un maullido y me gusta comer\n"
     ]
    }
   ],
   "source": [
    "class Animal:           # creo la clase\n",
    "    \n",
    "    def __init__(self, nombre, sonido, accion):  # asigno atributos de instancia para cada animal\n",
    "        self.nombre = nombre      # asigno atributos a cada variable        \n",
    "        self.sonido = sonido\n",
    "        self.accion = accion\n",
    "        \n",
    "\n",
    "primer_animal = Animal(\"roco\", \"ladrido\", \"dormir\")    # creo mi primer objeto\n",
    "segundo_animal = Animal(\"michi\", \"maullido\", \"comer\")  # creo mi segundo objeto\n",
    "\n",
    "print(f\"hola soy un {segundo_animal.nombre}, emito un {segundo_animal.sonido} y me gusta {segundo_animal.accion}\")\n",
    "# imprimo la frase con los objetos y sus atributos de instancia"
   ]
  },
  {
   "cell_type": "markdown",
   "metadata": {},
   "source": [
    "## Herencias"
   ]
  },
  {
   "cell_type": "code",
   "execution_count": 23,
   "metadata": {},
   "outputs": [
    {
     "name": "stdout",
     "output_type": "stream",
     "text": [
      "ssss\n",
      "verde\n",
      "hola, yo soy un reptil!!\n",
      "10\n"
     ]
    }
   ],
   "source": [
    "# Clase Padre\n",
    "class Reptil: # defino mi clase\n",
    "    tipo = \"Reptil\" # Atributo de clase\n",
    "\n",
    "    def __init__(self, color, sonido): # atributo de instancia\n",
    "        self.color = color \n",
    "        self.sonido = sonido \n",
    "\n",
    "\n",
    "    # metodo\n",
    "    def presentarse(self):\n",
    "        print(\"hola, yo soy un reptil!!\")\n",
    "\n",
    "# clase hija\n",
    "\n",
    "class Serpiente(Reptil):\n",
    "    veneno = 10 #lts # atributo de clase de serpiente\n",
    "\n",
    "    def arrastrarse(self): # metodo de serpiente\n",
    "        print(\"yo me arrastro\")\n",
    "\n",
    "\n",
    "# creo mis objetos\n",
    "mi_reptil = Reptil(\"verde\", \"sonido generico\") # objeto de mi clase padre\n",
    "mi_serpiente = Serpiente(\"negra\", \"ssss\") # objeto de mi clase hija\n",
    "\n",
    "print(mi_serpiente.sonido)\n",
    "print(mi_reptil.color)\n",
    "mi_serpiente.presentarse() # metodo que hereda de reptil\n",
    "print(mi_serpiente.veneno)\n",
    "\n",
    "\n",
    "\n"
   ]
  },
  {
   "cell_type": "markdown",
   "metadata": {},
   "source": [
    "## Challenge 🤺\n",
    "Definir una clase padre que herede a sus clases hijas dos atributos de instancia. Mostrar ambos atributos en pantalla desde los objetos de las clases hijas."
   ]
  },
  {
   "cell_type": "markdown",
   "metadata": {},
   "source": [
    "## Solucion de Ceci 🤩"
   ]
  },
  {
   "cell_type": "code",
   "execution_count": 25,
   "metadata": {},
   "outputs": [
    {
     "name": "stdout",
     "output_type": "stream",
     "text": [
      "Un Saiyajin en fase 0 puede volar a 180 km\n",
      "Un mortal en fase 0 Puede solo correr\n",
      "Un mestizo en fase 0 puede volar a 110 km\n"
     ]
    }
   ],
   "source": [
    "class Saiyans:\n",
    "    clasificacion= 'Saiyajin' #definimos atributo de clae\n",
    "\n",
    "    def __init__(self,rango, fase): #definimos atributo de instancia\n",
    "        self.rango= rango\n",
    "        self.fase= fase\n",
    "\n",
    "    def volar(self): #definimos metodo\n",
    "        return('puede volar a 180 km')\n",
    "\n",
    "class Mortales: #definimos clase hija 1\n",
    "        clasificacion1= 'mortal' #definimos atributo de clase\n",
    "\n",
    "        def correr (self): #definimos metodo\n",
    "              return('Puede solo correr')\n",
    "\n",
    "\n",
    "class Mestizaje: #definimo clase hija2\n",
    "        clasificacion2= 'mestizo' #definimos atributo de clase\n",
    "\n",
    "        def volar1 (self): #definimos metodo\n",
    "              return('puede volar a 110 km')\n",
    "\n",
    "#indicamos objetos padre - hijas \n",
    "\n",
    "kakaroto= Saiyans('super saiyans',0) \n",
    "print(f'Un {kakaroto.clasificacion} en fase {kakaroto.fase} {kakaroto.volar()}')\n",
    "\n",
    "videl= Mortales()\n",
    "Pan= Mestizaje()\n",
    "\n",
    "print(f'Un {videl.clasificacion1} en fase {kakaroto.fase} {videl.correr()}')\n",
    "print(f'Un {Pan.clasificacion2} en fase {kakaroto.fase} {Pan.volar1()}')"
   ]
  },
  {
   "cell_type": "markdown",
   "metadata": {},
   "source": [
    "## Solucion de Aidee 😁"
   ]
  },
  {
   "cell_type": "code",
   "execution_count": 26,
   "metadata": {},
   "outputs": [
    {
     "name": "stdout",
     "output_type": "stream",
     "text": [
      "Los Numeros Enteros Pares son numeros multiplos de 2 en el intervalo (-∞,∞) sin decimales en su constitucion. \n",
      "Su elemento neutro es el 0 y cumple con propiedades de: (a*b)*c = a*(b*c) y a*b = b*a\n"
     ]
    }
   ],
   "source": [
    "class Grupo:\n",
    "    nombre = 'Numeros Enteros'\n",
    "    operacion = '*'\n",
    "    \n",
    "    def __init__(self, definicion, neutro): #atributos de instancia\n",
    "        self.definicion = definicion\n",
    "        self.neutro = neutro\n",
    "\n",
    "    def asociatividad(self):\n",
    "        return (f\"(a*b)*c = a*(b*c)\")\n",
    "\n",
    "    def conmutatividad(self):\n",
    "        return (f\"a*b = b*a\")\n",
    "\n",
    "class Subgrupo(Grupo):\n",
    "    pares = 'Numeros Enteros Pares'\n",
    "\n",
    "grupo = Grupo('numeros en el intervalo (-∞,∞) sin decimales en su constitucion', 0)\n",
    "subgrupo = Subgrupo('numeros multiplos de 2 en el intervalo (-∞,∞) sin decimales en su constitucion', 0)\n",
    "\n",
    "print(f\"Los {subgrupo.pares} son {subgrupo.definicion}. \\nSu elemento neutro es el {subgrupo.neutro} y cumple con propiedades de: {subgrupo.asociatividad()} y {subgrupo.conmutatividad()}\")"
   ]
  },
  {
   "cell_type": "markdown",
   "metadata": {},
   "source": [
    "## Diccionarios"
   ]
  },
  {
   "cell_type": "code",
   "execution_count": 38,
   "metadata": {},
   "outputs": [
    {
     "name": "stdout",
     "output_type": "stream",
     "text": [
      "{'nombre': 'Ana', 'apellido': 'Britez', 'email': 'analia@penguin', 'direccion': 'calle mengano 1'}\n",
      "calle mengano 1\n",
      "{'nombre': 'Ana', 'apellido': 'Britez', 'email': 'analia@penguin', 'direccion': 'calle mengano 1', 'barrio': 'Los laureles'}\n",
      "{'nombre': 'Ana', 'apellido': ' gonzalez ', 'email': 'analia@penguin', 'direccion': 'calle mengano 1', 'barrio': 'Los laureles'}\n",
      "{'nombre': 'Ana', 'apellido': ' gonzalez ', 'email': 'analia@penguin', 'direccion': 'calle mengano 1'}\n",
      "{'nombre': 'Ana', 'email': 'analia@penguin', 'direccion': 'calle mengano 1'}\n"
     ]
    }
   ],
   "source": [
    "mi_contacto = {\n",
    "    \"nombre\" : \"Ana\",\n",
    "    \"apellido\" : \"Britez\", \n",
    "    \"email\" : \"analia@penguin\",\n",
    "    \"direccion\" : \"calle mengano 1\"\n",
    "}\n",
    "#immprimir\n",
    "print(mi_contacto)\n",
    "\n",
    "# Acceder a datos del diccionario\n",
    "mi_contacto[\"nombre\"]\n",
    "print(mi_contacto[\"direccion\"])\n",
    "\n",
    "# desplegar datos especificos \n",
    "mi_contacto.keys() # ver las claves de mi diccionario\n",
    "mi_contacto.values() # ver los valores del diccionario\n",
    "mi_contacto.items()\n",
    "\n",
    "# anhadir un dato al diccionario o actualizar\n",
    "mi_contacto[\"barrio\"] = \"Los laureles\" # nueva clave\n",
    "print(mi_contacto)\n",
    "mi_contacto[\"apellido\"] = \" gonzalez \" # ya existe la clave\n",
    "print(mi_contacto)\n",
    "\n",
    "# Eliminar datos del diccionario\n",
    "# ultimo par\n",
    "mi_contacto.popitem()\n",
    "print(mi_contacto)\n",
    "# por clave\n",
    "del mi_contacto[\"apellido\"]\n",
    "print(mi_contacto)\n"
   ]
  },
  {
   "cell_type": "markdown",
   "metadata": {},
   "source": [
    "## Challenge 1 🤺\n",
    "Escribir un programa que cree un diccionario vacío y lo vaya llenado con información sobre una persona (por ejemplo nombre, edad, sexo, teléfono, correo electrónico, etc.) que se le pida al usuario. Cada vez que se añada un nuevo dato debe imprimirse el contenido del diccionario."
   ]
  },
  {
   "cell_type": "code",
   "execution_count": 39,
   "metadata": {},
   "outputs": [
    {
     "name": "stdout",
     "output_type": "stream",
     "text": [
      "{'nombre': 'Eduardo'}\n"
     ]
    }
   ],
   "source": [
    "contactos = {}\n",
    "\n",
    "contactos['nombre'] = input(\"Ingrese su nombre\")\n",
    "print(contactos)\n",
    "contactos['edad'] = int(input(\"Ingrese su nombre\"))\n",
    "print(contactos)\n",
    "contactos['telefon'] = input(\"Ingrese su nombre\")\n",
    "print(contactos)\n"
   ]
  },
  {
   "cell_type": "code",
   "execution_count": 40,
   "metadata": {},
   "outputs": [
    {
     "name": "stdout",
     "output_type": "stream",
     "text": [
      "{'Nombre': 'Edoado'}\n",
      "Opcion no valida, ingrese s / n\n",
      "Gracias por todo\n"
     ]
    }
   ],
   "source": [
    "contactos = {}\n",
    "\n",
    "while True:\n",
    "    menu = input(\"Desea cargar un dato s / n\")\n",
    "\n",
    "    if menu == \"s\":\n",
    "        clave = input(\"Ingrese el dato a cargar,, eje. Nombre\")\n",
    "        valor = input(\"Ingrese el valor / dato\")\n",
    "        contactos[clave] = valor\n",
    "        print(contactos)\n",
    "    \n",
    "    elif menu == \"n\":\n",
    "        print(\"Gracias por todo\")\n",
    "        break\n",
    "\n",
    "    else:\n",
    "        print(\"Opcion no valida, ingrese s / n\")\n",
    "        menu = input(\"Desea cargar un dato s / n\")\n"
   ]
  },
  {
   "cell_type": "markdown",
   "metadata": {},
   "source": [
    "## Challenge 2 🤺\n",
    "\n",
    "Challenge 2 🤺\n",
    "Crear una tarjeta personal. El usuario (mediante input) puede elegir:\n",
    "\n",
    "1. Crear datos nuevos\n",
    "2. Modificar datos\n",
    "3. Eliminar datos"
   ]
  },
  {
   "cell_type": "code",
   "execution_count": 41,
   "metadata": {},
   "outputs": [
    {
     "name": "stdout",
     "output_type": "stream",
     "text": [
      "{'Nombre': 'Juan'}\n",
      "{'Nombre': 'Juan', 'Edad': '17'}\n",
      "{'Nombre': 'Juan', 'Edad': '19'}\n",
      "{'Edad': '19'}\n",
      "Gracias\n"
     ]
    }
   ],
   "source": [
    "tarjeta_personal = {}\n",
    "\n",
    "while True:\n",
    "    data = input (\"Seleccione 1: Para crear,\\n 2: Modificar,\\n 3: Eliminar \\n 4: Para salir\")\n",
    "\n",
    "    if data == \"1\": \n",
    "        crear_clave = input(\"Cual dato desea cargar\")\n",
    "        crear_valor = input([crear_clave])\n",
    "        tarjeta_personal [crear_clave] = crear_valor\n",
    "        print (tarjeta_personal)\n",
    "    elif data == \"2\":\n",
    "        modif_dato = input(\"Que clave desea modificar\")\n",
    "        modif_valor = input ([modif_dato])\n",
    "        tarjeta_personal [modif_dato] = modif_valor\n",
    "        print (tarjeta_personal)\n",
    "    elif data == \"3\":\n",
    "        eliminar = input(\"Cual dato desea eliminar\")\n",
    "        del tarjeta_personal [eliminar]\n",
    "        print (tarjeta_personal)\n",
    "    else:\n",
    "        print (\"Gracias\")\n",
    "        break"
   ]
  }
 ],
 "metadata": {
  "kernelspec": {
   "display_name": "Python 3",
   "language": "python",
   "name": "python3"
  },
  "language_info": {
   "codemirror_mode": {
    "name": "ipython",
    "version": 3
   },
   "file_extension": ".py",
   "mimetype": "text/x-python",
   "name": "python",
   "nbconvert_exporter": "python",
   "pygments_lexer": "ipython3",
   "version": "3.11.6"
  }
 },
 "nbformat": 4,
 "nbformat_minor": 2
}
